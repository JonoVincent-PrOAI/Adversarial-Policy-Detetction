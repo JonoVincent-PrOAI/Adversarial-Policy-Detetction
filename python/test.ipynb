{
 "cells": [
  {
   "cell_type": "code",
   "execution_count": 1,
   "id": "fd799ffd",
   "metadata": {},
   "outputs": [],
   "source": [
    "import load_model \n",
    "import torch\n",
    "from board import Board\n",
    "from gamestate import GameState\n",
    "from features import Features\n",
    "\n",
    "nn_chkpt = 'Network_Files/KataGo_NN/ckpt_files/kata1-b28c512nbt-s8834891520-d4763401477/model.ckpt'\n",
    "\n",
    "kata_model, kata_swa_model, other_state_dict = load_model.load_model(nn_chkpt, use_swa=True, device = torch.device(\"cpu\"))"
   ]
  },
  {
   "cell_type": "code",
   "execution_count": 2,
   "id": "d60ce5b5",
   "metadata": {},
   "outputs": [
    {
     "name": "stdout",
     "output_type": "stream",
     "text": [
      ". . . . . . . . . . . . . . . . . . . \n",
      ". O . . . . . . . . . . . . . . . . . \n",
      ". . . . . . . . . . . . . . . . . . . \n",
      ". . . * . . . . . . . . . . . * . . . \n",
      ". . . . . . . . . . . . . . . . . . . \n",
      ". . . . . . . . . . . . . . . . . . . \n",
      ". . . . . . . . . . . . . . . . . . . \n",
      ". . . . . . . . . . . . . . . . . . . \n",
      ". . . . . . . . . . . . . . . . . . . \n",
      ". . . . . . . . . . . . . . . . . . . \n",
      ". . . . . . . . . . . . . . . . . . . \n",
      ". . . . . . . . . . . . . . . . . . . \n",
      ". . . . . . . . . . . . . . . . . . . \n",
      ". . . . . . . . . . . . . . . . . . . \n",
      ". . . . . . . . . . . . . . . . . . . \n",
      ". . . * . . . . . . . . . . . * . . . \n",
      ". . . . . . . . . . . . . . . . . . . \n",
      ". . . . . . . . . . . . . . . . . . . \n",
      ". . . . . . . . . . . . . . . . . . . \n",
      "R4\n",
      ". . . . . . . . . . . . . . . . . . . \n",
      ". O . . . . . . . . . . . . . . . . . \n",
      ". . . . . . . . . . . . . . . . . . . \n",
      ". . . * . . . . . . . . . . . * . . . \n",
      ". . . . . . . . . . . . . . . . . . . \n",
      ". . . . . . . . . . . . . . . . . . . \n",
      ". . . . . . . . . . . . . . . . . . . \n",
      ". . . . . . . . . . . . . . . . . . . \n",
      ". . . . . . . . . . . . . . . . . . . \n",
      ". . . . . . . . . . . . . . . . . . . \n",
      ". . . . . . . . . . . . . . . . . . . \n",
      ". . . . . . . . . . . . . . . . . . . \n",
      ". . . . . . . . . . . . . . . . . . . \n",
      ". . . . . . . . . . . . . . . . . . . \n",
      ". . . . . . . . . . . . . . . . . . . \n",
      ". . . * . . . . . . . . . . . * X . . \n",
      ". . . . . . . . . . . . . . . . . . . \n",
      ". . . . . . . . . . . . . . . . . . . \n",
      ". . . . . . . . . . . . . . . . . . . \n"
     ]
    }
   ],
   "source": [
    "colstr = 'ABCDEFGHJKLMNOPQRST'\n",
    "\n",
    "def parse_coord(s, board):\n",
    "    if s == 'pass':\n",
    "        return board.Board.PASS_LOC\n",
    "    return board.loc(colstr.index(s[0].upper()), board.y_size - int(s[1:]))\n",
    "\n",
    "def str_coord(loc,board):\n",
    "    if loc == Board.PASS_LOC:\n",
    "        return 'pass'\n",
    "    x = board.loc_x(loc)\n",
    "    y = board.loc_y(loc)\n",
    "    return '%c%d' % (colstr[x], board.y_size - y)\n",
    "\n",
    "command = [['play'],['b'], ['B18']]\n",
    "\n",
    "board_size = 19\n",
    "\n",
    "gs = GameState(board_size, GameState.RULES_TT)\n",
    "\n",
    "pos_len = 19\n",
    "\n",
    "model_config = kata_swa_model.config\n",
    "kata_model.eval()\n",
    "\n",
    "features = Features(model_config, pos_len)\n",
    "\n",
    "pla = (Board.BLACK if command[1] == \"B\" or command[1] == \"b\" else Board.WHITE)\n",
    "loc = parse_coord(command[2][0],gs.board)\n",
    "gs.play(pla,loc)\n",
    "\n",
    "print(gs.board.to_string())\n",
    "\n",
    "outputs = gs.get_model_outputs(kata_swa_model)\n",
    "loc = outputs[\"genmove_result\"]\n",
    "pla = gs.board.pla\n",
    "gs.play(pla,loc)\n",
    "coord = str_coord(loc,gs.board)\n",
    "\n",
    "print(coord)\n",
    "\n",
    "print(gs.board.to_string())"
   ]
  },
  {
   "cell_type": "markdown",
   "id": "caea906c",
   "metadata": {},
   "source": []
  }
 ],
 "metadata": {
  "kernelspec": {
   "display_name": ".venv",
   "language": "python",
   "name": "python3"
  },
  "language_info": {
   "codemirror_mode": {
    "name": "ipython",
    "version": 3
   },
   "file_extension": ".py",
   "mimetype": "text/x-python",
   "name": "python",
   "nbconvert_exporter": "python",
   "pygments_lexer": "ipython3",
   "version": "3.13.1"
  }
 },
 "nbformat": 4,
 "nbformat_minor": 5
}
